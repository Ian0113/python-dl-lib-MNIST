{
 "cells": [
  {
   "cell_type": "code",
   "execution_count": 1,
   "metadata": {},
   "outputs": [],
   "source": [
    "import matplotlib.pyplot as plt\n",
    "import numpy as np"
   ]
  },
  {
   "cell_type": "code",
   "execution_count": 2,
   "metadata": {},
   "outputs": [],
   "source": [
    "from dl_lib import *\n",
    "from Mnist import mnist_imgread, mnist_labread"
   ]
  },
  {
   "cell_type": "code",
   "execution_count": 3,
   "metadata": {},
   "outputs": [],
   "source": [
    "def prt_dataset(images, labels):\n",
    "    plt.figure(figsize=(10,10))\n",
    "    for i in range(10):\n",
    "        plt.subplot(5,5,i+1)\n",
    "        plt.xticks([])\n",
    "        plt.yticks([])\n",
    "        plt.grid(False)\n",
    "        plt.imshow(images[i].reshape(images.shape[1], images.shape[2]), cmap=plt.cm.binary)\n",
    "        plt.xlabel('label:' + str(labels[i]))\n",
    "    plt.show()\n",
    "\n",
    "def plt_result(results:dict):\n",
    "    for k, v in results.items():\n",
    "        plt.plot(v, label=k)\n",
    "    plt.xlabel('Epoch')\n",
    "    plt.ylabel(k)\n",
    "    plt.legend(loc='upper left')"
   ]
  },
  {
   "cell_type": "code",
   "execution_count": 4,
   "metadata": {},
   "outputs": [
    {
     "name": "stdout",
     "output_type": "stream",
     "text": [
      "train data\n",
      "img shape:(60000, 28, 28, 1), lab shape:(60000, 1)\n"
     ]
    },
    {
     "data": {
      "image/png": "[encoded data removed]",
      "text/plain": [
       "<Figure size 720x720 with 10 Axes>"
      ]
     },
     "metadata": {},
     "output_type": "display_data"
    }
   ],
   "source": [
    "### read dataset\n",
    "train_imgs = mnist_imgread('./dataset/train-images-idx3-ubyte.gz')\n",
    "train_labs = mnist_labread('./dataset/train-labels-idx1-ubyte.gz')\n",
    "print('train data\\nimg shape:{}, lab shape:{}'.format(train_imgs.shape, train_labs.shape))\n",
    "prt_dataset(train_imgs, train_labs)"
   ]
  },
  {
   "cell_type": "code",
   "execution_count": 5,
   "metadata": {},
   "outputs": [
    {
     "name": "stdout",
     "output_type": "stream",
     "text": [
      "test data\n",
      "img shape:(10000, 28, 28, 1), lab shape:(10000, 1)\n"
     ]
    },
    {
     "data": {
      "image/png": "[encoded data removed]",
      "text/plain": [
       "<Figure size 720x720 with 10 Axes>"
      ]
     },
     "metadata": {},
     "output_type": "display_data"
    }
   ],
   "source": [
    "test_imgs = mnist_imgread('./dataset/t10k-images-idx3-ubyte.gz')\n",
    "test_labs = mnist_labread('./dataset/t10k-labels-idx1-ubyte.gz')\n",
    "print('test data\\nimg shape:{}, lab shape:{}'.format(test_imgs.shape, test_labs.shape))\n",
    "prt_dataset(test_imgs, test_labs)"
   ]
  },
  {
   "cell_type": "code",
   "execution_count": 6,
   "metadata": {},
   "outputs": [
    {
     "name": "stdout",
     "output_type": "stream",
     "text": [
      "train_x : (60000, 28, 28, 1)\n",
      "test_x (10000, 28, 28, 1)\n"
     ]
    }
   ],
   "source": [
    "### model x\n",
    "train_x, test_x = train_imgs, test_imgs\n",
    "print('train_x :', train_x.shape)\n",
    "print('test_x', test_x.shape)"
   ]
  },
  {
   "cell_type": "code",
   "execution_count": 7,
   "metadata": {},
   "outputs": [
    {
     "name": "stdout",
     "output_type": "stream",
     "text": [
      "train_y : (60000, 10, 1)\n",
      "test_y (10000, 10, 1)\n"
     ]
    }
   ],
   "source": [
    "### model y (labels one hot encoding)\n",
    "onehot = OneHot(np.arange(0,10))\n",
    "train_y, test_y = onehot.encoding(train_labs), onehot.encoding(test_labs)\n",
    "# train_y, test_y = train_labs, test_labs\n",
    "print('train_y :', train_y.shape)\n",
    "print('test_y', test_y.shape)"
   ]
  },
  {
   "cell_type": "code",
   "execution_count": 8,
   "metadata": {},
   "outputs": [],
   "source": [
    "layers = (\n",
    "    \n",
    "    Conv(k_no=8, k_size=3, is_add_padding=True),\n",
    "    ReLU(),\n",
    "    Conv(k_no=8, k_size=3, is_add_padding=True),\n",
    "    ReLU(),\n",
    "    MaxPooling(2),\n",
    "\n",
    "    Flatten(),\n",
    "\n",
    "    Dense(128),\n",
    "    BatchNorm(),\n",
    "    ReLU(),\n",
    "    Dropout(0.5),\n",
    "\n",
    "    Dense(10), Softmax(),\n",
    ")"
   ]
  },
  {
   "cell_type": "code",
   "execution_count": 9,
   "metadata": {},
   "outputs": [],
   "source": [
    "model = Model(layers=layers)\n",
    "loss = CategoricalCrossEntropy()\n",
    "optimizer=Adam(learning_rate=0.0005)\n",
    "model.compile(optimizer=optimizer, lossfunc=loss)"
   ]
  },
  {
   "cell_type": "code",
   "execution_count": 10,
   "metadata": {
    "scrolled": false
   },
   "outputs": [
    {
     "name": "stdout",
     "output_type": "stream",
     "text": [
      "\n",
      "<01> --------------------------------------------------------------------------------\n",
      "    training[========================>] acc:85.16, loss:0.6047\n",
      "    evaluate[========================>] acc:95.46, loss:0.1494\n",
      "\n",
      "<02> --------------------------------------------------------------------------------\n",
      "    training[========================>] acc:94.87, loss:0.2132\n",
      "    evaluate[========================>] acc:97.19, loss:0.0983\n",
      "\n",
      "<03> --------------------------------------------------------------------------------\n",
      "    training[========================>] acc:96.40, loss:0.1397\n",
      "    evaluate[========================>] acc:97.83, loss:0.0825\n",
      "\n",
      "<04> --------------------------------------------------------------------------------\n",
      "    training[========================>] acc:96.92, loss:0.1109\n",
      "    evaluate[========================>] acc:97.91, loss:0.0747\n",
      "\n",
      "<05> --------------------------------------------------------------------------------\n",
      "    training[========================>] acc:97.35, loss:0.0936\n",
      "    evaluate[========================>] acc:98.02, loss:0.0727\n",
      "\n",
      "<06> --------------------------------------------------------------------------------\n",
      "    training[========================>] acc:97.62, loss:0.0832\n",
      "    evaluate[========================>] acc:98.16, loss:0.0688\n",
      "\n",
      "<07> --------------------------------------------------------------------------------\n",
      "    training[========================>] acc:97.84, loss:0.0767\n",
      "    evaluate[========================>] acc:98.01, loss:0.0698\n",
      "\n",
      "<08> --------------------------------------------------------------------------------\n",
      "    training[========================>] acc:98.02, loss:0.0688\n",
      "    evaluate[========================>] acc:98.09, loss:0.0671\n",
      "\n",
      "<09> --------------------------------------------------------------------------------\n",
      "    training[========================>] acc:98.04, loss:0.0657\n",
      "    evaluate[========================>] acc:98.31, loss:0.0634\n",
      "\n",
      "<10> --------------------------------------------------------------------------------\n",
      "    training[========================>] acc:98.23, loss:0.0597\n",
      "    evaluate[========================>] acc:98.28, loss:0.0671\n",
      "\n",
      "<11> --------------------------------------------------------------------------------\n",
      "    training[========================>] acc:98.32, loss:0.0557\n",
      "    evaluate[========================>] acc:98.38, loss:0.0594\n",
      "\n",
      "<12> --------------------------------------------------------------------------------\n",
      "    training[========================>] acc:98.38, loss:0.0532\n",
      "    evaluate[========================>] acc:98.53, loss:0.0601\n",
      "\n",
      "<13> --------------------------------------------------------------------------------\n",
      "    training[========================>] acc:98.46, loss:0.0504\n",
      "    evaluate[========================>] acc:98.37, loss:0.0665\n",
      "\n",
      "<14> --------------------------------------------------------------------------------\n",
      "    training[========================>] acc:98.52, loss:0.0478\n",
      "    evaluate[========================>] acc:98.51, loss:0.0617\n",
      "\n",
      "<15> --------------------------------------------------------------------------------\n",
      "    training[========================>] acc:98.61, loss:0.0452\n",
      "    evaluate[========================>] acc:98.47, loss:0.0602\n",
      "\n",
      "<16> --------------------------------------------------------------------------------\n",
      "    training[========================>] acc:98.71, loss:0.0430\n",
      "    evaluate[========================>] acc:98.58, loss:0.0630\n",
      "\n",
      "<17> --------------------------------------------------------------------------------\n",
      "    training[========================>] acc:98.81, loss:0.0401\n",
      "    evaluate[========================>] acc:98.50, loss:0.0696\n",
      "\n",
      "<18> --------------------------------------------------------------------------------\n",
      "    training[========================>] acc:98.77, loss:0.03957\n",
      "    evaluate[========================>] acc:98.59, loss:0.0585\n",
      "\n",
      "<19> --------------------------------------------------------------------------------\n",
      "    training[========================>] acc:98.89, loss:0.0368\n",
      "    evaluate[========================>] acc:98.47, loss:0.0668\n",
      "\n",
      "<20> --------------------------------------------------------------------------------\n",
      "    training[========================>] acc:98.92, loss:0.0346\n",
      "    evaluate[========================>] acc:98.57, loss:0.0603\n"
     ]
    }
   ],
   "source": [
    "### training\n",
    "history = model.fit(train_x, train_y, test_x, test_y, epoch=20, batch_size=256, clean_opt=20)"
   ]
  },
  {
   "cell_type": "code",
   "execution_count": 11,
   "metadata": {},
   "outputs": [],
   "source": [
    "model.save('./Mnist_cnn_2conv(8(3))_pool(2)_h128_softmax10_CrossEntropy_.model')"
   ]
  },
  {
   "cell_type": "code",
   "execution_count": 12,
   "metadata": {},
   "outputs": [
    {
     "data": {
      "image/png": "[encoded data removed]",
      "text/plain": [
       "<Figure size 432x288 with 1 Axes>"
      ]
     },
     "metadata": {
      "needs_background": "light"
     },
     "output_type": "display_data"
    }
   ],
   "source": [
    "### 損失函數\n",
    "plt_result({\n",
    "    'loss' : history['los'],\n",
    "    'val_loss': history['val_los'],\n",
    "})"
   ]
  },
  {
   "cell_type": "code",
   "execution_count": 13,
   "metadata": {},
   "outputs": [
    {
     "data": {
      "image/png": "[encoded data removed]",
      "text/plain": [
       "<Figure size 432x288 with 1 Axes>"
      ]
     },
     "metadata": {
      "needs_background": "light"
     },
     "output_type": "display_data"
    }
   ],
   "source": [
    "# 準確度\n",
    "plt_result({\n",
    "    'accuracy': history['acc'],\n",
    "    'val_accuracy' : history['val_acc'],\n",
    "})"
   ]
  },
  {
   "cell_type": "code",
   "execution_count": 14,
   "metadata": {},
   "outputs": [
    {
     "name": "stdout",
     "output_type": "stream",
     "text": [
      "    evaluate[========================>] acc:98.57, loss:0.0603\n"
     ]
    },
    {
     "data": {
      "text/plain": [
       "(0.9857124340120663, 0.060311639112563584)"
      ]
     },
     "execution_count": 14,
     "metadata": {},
     "output_type": "execute_result"
    }
   ],
   "source": [
    "### 模組評估\n",
    "model.evaluate(test_x, test_y)"
   ]
  },
  {
   "cell_type": "code",
   "execution_count": null,
   "metadata": {},
   "outputs": [],
   "source": []
  },
  {
   "cell_type": "code",
   "execution_count": null,
   "metadata": {},
   "outputs": [],
   "source": []
  },
  {
   "cell_type": "code",
   "execution_count": null,
   "metadata": {},
   "outputs": [],
   "source": []
  },
  {
   "cell_type": "code",
   "execution_count": null,
   "metadata": {},
   "outputs": [],
   "source": []
  },
  {
   "cell_type": "code",
   "execution_count": null,
   "metadata": {},
   "outputs": [],
   "source": []
  }
 ],
 "metadata": {
  "kernelspec": {
   "display_name": "Python 3",
   "language": "python",
   "name": "python3"
  },
  "language_info": {
   "codemirror_mode": {
    "name": "ipython",
    "version": 3
   },
   "file_extension": ".py",
   "mimetype": "text/x-python",
   "name": "python",
   "nbconvert_exporter": "python",
   "pygments_lexer": "ipython3",
   "version": "3.7.5"
  }
 },
 "nbformat": 4,
 "nbformat_minor": 4
}
