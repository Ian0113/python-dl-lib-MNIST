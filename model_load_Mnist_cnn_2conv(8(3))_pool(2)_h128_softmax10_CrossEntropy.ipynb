{
 "cells": [
  {
   "cell_type": "code",
   "execution_count": 1,
   "metadata": {},
   "outputs": [],
   "source": [
    "import matplotlib.pyplot as plt\n",
    "import numpy as np"
   ]
  },
  {
   "cell_type": "code",
   "execution_count": 2,
   "metadata": {},
   "outputs": [],
   "source": [
    "from dl_lib import Model, OneHot\n",
    "from Mnist import mnist_imgread, mnist_labread"
   ]
  },
  {
   "cell_type": "code",
   "execution_count": 3,
   "metadata": {},
   "outputs": [
    {
     "name": "stdout",
     "output_type": "stream",
     "text": [
      "test data\n",
      "img shape:(10000, 28, 28, 1), lab shape:(10000, 1)\n"
     ]
    }
   ],
   "source": [
    "### read dataset\n",
    "test_imgs = mnist_imgread('./dataset/t10k-images-idx3-ubyte.gz')\n",
    "test_labs = mnist_labread('./dataset/t10k-labels-idx1-ubyte.gz')\n",
    "print('test data\\nimg shape:{}, lab shape:{}'.format(test_imgs.shape, test_labs.shape))"
   ]
  },
  {
   "cell_type": "code",
   "execution_count": 4,
   "metadata": {},
   "outputs": [
    {
     "name": "stdout",
     "output_type": "stream",
     "text": [
      "test_x (10000, 28, 28, 1)\n",
      "test_y (10000, 10, 1)\n"
     ]
    }
   ],
   "source": [
    "### model x\n",
    "test_x = test_imgs\n",
    "print('test_x', test_x.shape)\n",
    "### model y (labels one hot encoding)\n",
    "onehot = OneHot(np.arange(0,10))\n",
    "test_y = onehot.encoding(test_labs)\n",
    "print('test_y', test_y.shape)"
   ]
  },
  {
   "cell_type": "code",
   "execution_count": 5,
   "metadata": {},
   "outputs": [],
   "source": [
    "### 讀取模型\n",
    "cnn_model = Model.load('./Mnist_cnn_2conv(8(3))_pool(2)_h128_softmax10_CrossEntropy_.model')"
   ]
  },
  {
   "cell_type": "code",
   "execution_count": 6,
   "metadata": {},
   "outputs": [
    {
     "name": "stdout",
     "output_type": "stream",
     "text": [
      "    evaluate[========================>] acc:98.57, loss:0.0603\n",
      "cnn_model: (0.9857124340120663, 0.060311639112563584)\n"
     ]
    }
   ],
   "source": [
    "### 模組評估\n",
    "print('cnn_model:', cnn_model.evaluate(test_x, test_y))"
   ]
  },
  {
   "cell_type": "code",
   "execution_count": 7,
   "metadata": {},
   "outputs": [
    {
     "name": "stdout",
     "output_type": "stream",
     "text": [
      "實際: [7 2 1 0 4 1 4 9 5 9]\n",
      "cnn_model預測: [7 2 1 0 4 1 4 9 5 9]\n"
     ]
    }
   ],
   "source": [
    "### 實際\n",
    "original = onehot.decoding(test_y)\n",
    "### cnn_model預測\n",
    "cnn_prediction = cnn_model.predict(test_x[:10])\n",
    "cnn_prediction = onehot.decoding(cnn_prediction)\n",
    "\n",
    "print('實際:', original[:10])\n",
    "print('cnn_model預測:', cnn_prediction)"
   ]
  },
  {
   "cell_type": "code",
   "execution_count": 8,
   "metadata": {},
   "outputs": [
    {
     "name": "stdout",
     "output_type": "stream",
     "text": [
      "    get_diff[========================>] 143\n",
      "cnn_model預測失誤總數: 143\n"
     ]
    }
   ],
   "source": [
    "### cnn_model 實際與預測不同\n",
    "diff_index = cnn_model.get_diff(test_x, test_y)\n",
    "print('cnn_model預測失誤總數:', len(diff_index))"
   ]
  },
  {
   "cell_type": "code",
   "execution_count": 9,
   "metadata": {},
   "outputs": [
    {
     "data": {
      "text/plain": [
       "[217,\n",
       " 321,\n",
       " 359,\n",
       " 445,\n",
       " 495,\n",
       " 582,\n",
       " 659,\n",
       " 674,\n",
       " 684,\n",
       " 717,\n",
       " 883,\n",
       " 924,\n",
       " 947,\n",
       " 965,\n",
       " 1014,\n",
       " 1039,\n",
       " 1182,\n",
       " 1226,\n",
       " 1232,\n",
       " 1242,\n",
       " 1247,\n",
       " 1260,\n",
       " 1393,\n",
       " 1415,\n",
       " 1522,\n",
       " 1526,\n",
       " 1530,\n",
       " 1617,\n",
       " 1621,\n",
       " 1681,\n",
       " 1709,\n",
       " 1717,\n",
       " 1754,\n",
       " 1790,\n",
       " 1901,\n",
       " 1903,\n",
       " 2035,\n",
       " 2040,\n",
       " 2053,\n",
       " 2070,\n",
       " 2098,\n",
       " 2118,\n",
       " 2129,\n",
       " 2130,\n",
       " 2135,\n",
       " 2185,\n",
       " 2186,\n",
       " 2224,\n",
       " 2280,\n",
       " 2293,\n",
       " 2369,\n",
       " 2387,\n",
       " 2406,\n",
       " 2414,\n",
       " 2426,\n",
       " 2488,\n",
       " 2654,\n",
       " 2713,\n",
       " 2720,\n",
       " 2836,\n",
       " 2896,\n",
       " 2927,\n",
       " 2939,\n",
       " 2953,\n",
       " 3030,\n",
       " 3060,\n",
       " 3073,\n",
       " 3138,\n",
       " 3316,\n",
       " 3384,\n",
       " 3422,\n",
       " 3503,\n",
       " 3520,\n",
       " 3558,\n",
       " 3559,\n",
       " 3662,\n",
       " 3726,\n",
       " 3727,\n",
       " 3751,\n",
       " 3780,\n",
       " 3838,\n",
       " 3850,\n",
       " 3906,\n",
       " 3976,\n",
       " 4027,\n",
       " 4065,\n",
       " 4075,\n",
       " 4078,\n",
       " 4154,\n",
       " 4238,\n",
       " 4248,\n",
       " 4497,\n",
       " 4500,\n",
       " 4571,\n",
       " 4615,\n",
       " 4639,\n",
       " 4740,\n",
       " 4761,\n",
       " 4807,\n",
       " 4814,\n",
       " 4879,\n",
       " 4880,\n",
       " 4886,\n",
       " 4966,\n",
       " 5078,\n",
       " 5634,\n",
       " 5642,\n",
       " 5749,\n",
       " 5887,\n",
       " 5955,\n",
       " 5973,\n",
       " 6091,\n",
       " 6173,\n",
       " 6558,\n",
       " 6571,\n",
       " 6576,\n",
       " 6577,\n",
       " 6597,\n",
       " 6625,\n",
       " 6632,\n",
       " 6651,\n",
       " 6755,\n",
       " 7492,\n",
       " 8059,\n",
       " 8091,\n",
       " 8094,\n",
       " 8408,\n",
       " 8522,\n",
       " 9009,\n",
       " 9010,\n",
       " 9015,\n",
       " 9019,\n",
       " 9024,\n",
       " 9634,\n",
       " 9642,\n",
       " 9679,\n",
       " 9692,\n",
       " 9729,\n",
       " 9755,\n",
       " 9770,\n",
       " 9792,\n",
       " 9839,\n",
       " 9888]"
      ]
     },
     "execution_count": 9,
     "metadata": {},
     "output_type": "execute_result"
    }
   ],
   "source": [
    "diff_index"
   ]
  },
  {
   "cell_type": "code",
   "execution_count": null,
   "metadata": {},
   "outputs": [],
   "source": []
  }
 ],
 "metadata": {
  "kernelspec": {
   "display_name": "Python 3",
   "language": "python",
   "name": "python3"
  },
  "language_info": {
   "codemirror_mode": {
    "name": "ipython",
    "version": 3
   },
   "file_extension": ".py",
   "mimetype": "text/x-python",
   "name": "python",
   "nbconvert_exporter": "python",
   "pygments_lexer": "ipython3",
   "version": "3.7.5"
  }
 },
 "nbformat": 4,
 "nbformat_minor": 4
}
