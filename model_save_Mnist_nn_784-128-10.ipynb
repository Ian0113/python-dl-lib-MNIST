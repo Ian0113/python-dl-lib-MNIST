{
 "cells": [
  {
   "cell_type": "code",
   "execution_count": 1,
   "metadata": {},
   "outputs": [],
   "source": [
    "import matplotlib.pyplot as plt\n",
    "import numpy as np"
   ]
  },
  {
   "cell_type": "code",
   "execution_count": 2,
   "metadata": {},
   "outputs": [],
   "source": [
    "from dl_lib import *\n",
    "from Mnist import mnist_imgread, mnist_labread"
   ]
  },
  {
   "cell_type": "code",
   "execution_count": 3,
   "metadata": {},
   "outputs": [],
   "source": [
    "def prt_dataset(images, labels):\n",
    "    plt.figure(figsize=(10,10))\n",
    "    for i in range(10):\n",
    "        plt.subplot(5,5,i+1)\n",
    "        plt.xticks([])\n",
    "        plt.yticks([])\n",
    "        plt.grid(False)\n",
    "        plt.imshow(images[i].reshape(images.shape[1], images.shape[2]), cmap=plt.cm.binary)\n",
    "        plt.xlabel('label:' + str(labels[i]))\n",
    "    plt.show()\n",
    "\n",
    "def plt_result(results:dict):\n",
    "    for k, v in results.items():\n",
    "        plt.plot(v, label=k)\n",
    "    plt.xlabel('Epoch')\n",
    "    plt.ylabel(k)\n",
    "    plt.legend(loc='upper left')"
   ]
  },
  {
   "cell_type": "code",
   "execution_count": 4,
   "metadata": {},
   "outputs": [
    {
     "name": "stdout",
     "output_type": "stream",
     "text": [
      "train data\n",
      "img shape:(60000, 28, 28, 1), lab shape:(60000, 1)\n"
     ]
    },
    {
     "data": {
      "image/png": "[encoded data removed]",
      "text/plain": [
       "<Figure size 720x720 with 10 Axes>"
      ]
     },
     "metadata": {},
     "output_type": "display_data"
    }
   ],
   "source": [
    "### read dataset\n",
    "train_imgs = mnist_imgread('./dataset/train-images-idx3-ubyte.gz')\n",
    "train_labs = mnist_labread('./dataset/train-labels-idx1-ubyte.gz')\n",
    "print('train data\\nimg shape:{}, lab shape:{}'.format(train_imgs.shape, train_labs.shape))\n",
    "prt_dataset(train_imgs, train_labs)"
   ]
  },
  {
   "cell_type": "code",
   "execution_count": 5,
   "metadata": {},
   "outputs": [
    {
     "name": "stdout",
     "output_type": "stream",
     "text": [
      "train data\n",
      "img shape:(60000, 28, 28, 1), lab shape:(60000, 1)\n"
     ]
    },
    {
     "data": {
      "image/png": "[encoded data removed]",
      "text/plain": [
       "<Figure size 720x720 with 10 Axes>"
      ]
     },
     "metadata": {},
     "output_type": "display_data"
    }
   ],
   "source": [
    "test_imgs = mnist_imgread('./dataset/t10k-images-idx3-ubyte.gz')\n",
    "test_labs = mnist_labread('./dataset/t10k-labels-idx1-ubyte.gz')\n",
    "print('train data\\nimg shape:{}, lab shape:{}'.format(train_imgs.shape, train_labs.shape))\n",
    "prt_dataset(test_imgs, test_labs)"
   ]
  },
  {
   "cell_type": "markdown",
   "metadata": {},
   "source": [
    "## model 輸入"
   ]
  },
  {
   "cell_type": "code",
   "execution_count": 6,
   "metadata": {},
   "outputs": [
    {
     "name": "stdout",
     "output_type": "stream",
     "text": [
      "train_x : (60000, 28, 28, 1)\n",
      "test_x (10000, 28, 28, 1)\n"
     ]
    }
   ],
   "source": [
    "### model x\n",
    "train_x = train_imgs\n",
    "test_x = test_imgs\n",
    "print('train_x :', train_x.shape)\n",
    "print('test_x', test_x.shape)"
   ]
  },
  {
   "cell_type": "code",
   "execution_count": 7,
   "metadata": {},
   "outputs": [
    {
     "name": "stdout",
     "output_type": "stream",
     "text": [
      "train_y : (60000, 10, 1)\n",
      "test_y (10000, 10, 1)\n"
     ]
    }
   ],
   "source": [
    "### model y (labels one hot encoding)\n",
    "onehot = OneHot(np.arange(0,10))\n",
    "train_y = onehot.encoding(train_labs)\n",
    "test_y = onehot.encoding(test_labs)\n",
    "print('train_y :', train_y.shape)\n",
    "print('test_y', test_y.shape)"
   ]
  },
  {
   "cell_type": "markdown",
   "metadata": {},
   "source": [
    "## 創建模組"
   ]
  },
  {
   "cell_type": "code",
   "execution_count": 8,
   "metadata": {},
   "outputs": [],
   "source": [
    "layers = (\n",
    "    Flatten(),\n",
    "\n",
    "\n",
    "    Dense(128),\n",
    "    BatchNorm(),\n",
    "    ReLU(),\n",
    "    Dropout(0.25),\n",
    "\n",
    "    Dense(10),\n",
    "    Softmax(),\n",
    "\n",
    ")"
   ]
  },
  {
   "cell_type": "code",
   "execution_count": 9,
   "metadata": {},
   "outputs": [],
   "source": [
    "model = Model(layers=layers)\n",
    "loss = CategoricalCrossEntropy()\n",
    "optimizer=Adam(learning_rate=0.0005)\n",
    "model.compile(optimizer=optimizer, lossfunc=loss)"
   ]
  },
  {
   "cell_type": "code",
   "execution_count": 10,
   "metadata": {
    "scrolled": false
   },
   "outputs": [
    {
     "name": "stdout",
     "output_type": "stream",
     "text": [
      "\n",
      "<01> --------------------------------------------------------------------------------\n",
      "    training[========================>] acc:83.62, loss:0.6087\n",
      "    evaluate[========================>] acc:93.05, loss:0.2353\n",
      "\n",
      "<02> --------------------------------------------------------------------------------\n",
      "    training[========================>] acc:92.49, loss:0.2781\n",
      "    evaluate[========================>] acc:94.54, loss:0.1756\n",
      "\n",
      "<03> --------------------------------------------------------------------------------\n",
      "    training[========================>] acc:93.96, loss:0.2185\n",
      "    evaluate[========================>] acc:95.43, loss:0.1530\n",
      "\n",
      "<04> --------------------------------------------------------------------------------\n",
      "    training[========================>] acc:94.81, loss:0.1860\n",
      "    evaluate[========================>] acc:95.92, loss:0.1377\n",
      "\n",
      "<05> --------------------------------------------------------------------------------\n",
      "    training[========================>] acc:95.33, loss:0.1645\n",
      "    evaluate[========================>] acc:95.93, loss:0.1298\n",
      "\n",
      "<06> --------------------------------------------------------------------------------\n",
      "    training[========================>] acc:95.82, loss:0.1481\n",
      "    evaluate[========================>] acc:96.36, loss:0.1194\n",
      "\n",
      "<07> --------------------------------------------------------------------------------\n",
      "    training[========================>] acc:96.23, loss:0.1355\n",
      "    evaluate[========================>] acc:96.71, loss:0.1124\n",
      "\n",
      "<08> --------------------------------------------------------------------------------\n",
      "    training[========================>] acc:96.39, loss:0.1271\n",
      "    evaluate[========================>] acc:96.90, loss:0.1068\n",
      "\n",
      "<09> --------------------------------------------------------------------------------\n",
      "    training[========================>] acc:96.58, loss:0.1171\n",
      "    evaluate[========================>] acc:96.92, loss:0.1057\n",
      "\n",
      "<10> --------------------------------------------------------------------------------\n",
      "    training[========================>] acc:96.86, loss:0.1082\n",
      "    evaluate[========================>] acc:97.10, loss:0.0986\n",
      "\n",
      "<11> --------------------------------------------------------------------------------\n",
      "    training[========================>] acc:96.96, loss:0.1033\n",
      "    evaluate[========================>] acc:97.27, loss:0.0945\n",
      "\n",
      "<12> --------------------------------------------------------------------------------\n",
      "    training[========================>] acc:97.22, loss:0.0969\n",
      "    evaluate[========================>] acc:97.19, loss:0.0938\n",
      "\n",
      "<13> --------------------------------------------------------------------------------\n",
      "    training[========================>] acc:97.32, loss:0.0922\n",
      "    evaluate[========================>] acc:97.06, loss:0.0982\n",
      "\n",
      "<14> --------------------------------------------------------------------------------\n",
      "    training[========================>] acc:97.41, loss:0.0874\n",
      "    evaluate[========================>] acc:97.37, loss:0.0907\n",
      "\n",
      "<15> --------------------------------------------------------------------------------\n",
      "    training[========================>] acc:97.52, loss:0.0843\n",
      "    evaluate[========================>] acc:97.38, loss:0.0900\n",
      "\n",
      "<16> --------------------------------------------------------------------------------\n",
      "    training[========================>] acc:97.64, loss:0.0795\n",
      "    evaluate[========================>] acc:97.32, loss:0.0926\n",
      "\n",
      "<17> --------------------------------------------------------------------------------\n",
      "    training[========================>] acc:97.70, loss:0.0770\n",
      "    evaluate[========================>] acc:97.34, loss:0.0878\n",
      "\n",
      "<18> --------------------------------------------------------------------------------\n",
      "    training[========================>] acc:97.75, loss:0.0738\n",
      "    evaluate[========================>] acc:97.49, loss:0.0889\n",
      "\n",
      "<19> --------------------------------------------------------------------------------\n",
      "    training[========================>] acc:97.89, loss:0.0704\n",
      "    evaluate[========================>] acc:97.56, loss:0.0851\n",
      "\n",
      "<20> --------------------------------------------------------------------------------\n",
      "    training[========================>] acc:97.88, loss:0.0684\n",
      "    evaluate[========================>] acc:97.52, loss:0.0892\n",
      "\n",
      "<21> --------------------------------------------------------------------------------\n",
      "    training[========================>] acc:97.98, loss:0.0658\n",
      "    evaluate[========================>] acc:97.50, loss:0.0889\n",
      "\n",
      "<22> --------------------------------------------------------------------------------\n",
      "    training[========================>] acc:98.05, loss:0.0645\n",
      "    evaluate[========================>] acc:97.46, loss:0.0922\n",
      "\n",
      "<23> --------------------------------------------------------------------------------\n",
      "    training[========================>] acc:98.17, loss:0.0602\n",
      "    evaluate[========================>] acc:97.65, loss:0.0854\n",
      "\n",
      "<24> --------------------------------------------------------------------------------\n",
      "    training[========================>] acc:98.24, loss:0.0581\n",
      "    evaluate[========================>] acc:97.51, loss:0.0869\n",
      "\n",
      "<25> --------------------------------------------------------------------------------\n",
      "    training[========================>] acc:98.29, loss:0.0570\n",
      "    evaluate[========================>] acc:97.61, loss:0.0864\n",
      "\n",
      "<26> --------------------------------------------------------------------------------\n",
      "    training[========================>] acc:98.32, loss:0.0552\n",
      "    evaluate[========================>] acc:97.67, loss:0.0839\n",
      "\n",
      "<27> --------------------------------------------------------------------------------\n",
      "    training[========================>] acc:98.34, loss:0.0547\n",
      "    evaluate[========================>] acc:97.65, loss:0.0853\n",
      "\n",
      "<28> --------------------------------------------------------------------------------\n",
      "    training[========================>] acc:98.45, loss:0.0518\n",
      "    evaluate[========================>] acc:97.72, loss:0.0860\n",
      "\n",
      "<29> --------------------------------------------------------------------------------\n",
      "    training[========================>] acc:98.45, loss:0.0500\n",
      "    evaluate[========================>] acc:97.57, loss:0.0862\n",
      "\n",
      "<30> --------------------------------------------------------------------------------\n",
      "    training[========================>] acc:98.42, loss:0.0503\n",
      "    evaluate[========================>] acc:97.72, loss:0.0886\n",
      "\n",
      "<31> --------------------------------------------------------------------------------\n",
      "    training[========================>] acc:98.53, loss:0.0486\n",
      "    evaluate[========================>] acc:97.81, loss:0.0896\n",
      "\n",
      "<32> --------------------------------------------------------------------------------\n",
      "    training[========================>] acc:98.51, loss:0.0476\n",
      "    evaluate[========================>] acc:97.76, loss:0.0863\n",
      "\n",
      "<33> --------------------------------------------------------------------------------\n",
      "    training[========================>] acc:98.58, loss:0.0458\n",
      "    evaluate[========================>] acc:97.85, loss:0.0865\n",
      "\n",
      "<34> --------------------------------------------------------------------------------\n",
      "    training[========================>] acc:98.65, loss:0.0437\n",
      "    evaluate[========================>] acc:97.81, loss:0.0880\n",
      "\n",
      "<35> --------------------------------------------------------------------------------\n",
      "    training[========================>] acc:98.69, loss:0.0430\n",
      "    evaluate[========================>] acc:97.75, loss:0.0895\n",
      "\n",
      "<36> --------------------------------------------------------------------------------\n",
      "    training[========================>] acc:98.74, loss:0.0420\n",
      "    evaluate[========================>] acc:97.58, loss:0.0954\n",
      "\n",
      "<37> --------------------------------------------------------------------------------\n",
      "    training[========================>] acc:98.75, loss:0.0407\n",
      "    evaluate[========================>] acc:97.72, loss:0.0908\n",
      "\n",
      "<38> --------------------------------------------------------------------------------\n",
      "    training[========================>] acc:98.74, loss:0.0411\n",
      "    evaluate[========================>] acc:97.67, loss:0.0918\n",
      "\n",
      "<39> --------------------------------------------------------------------------------\n"
     ]
    },
    {
     "name": "stdout",
     "output_type": "stream",
     "text": [
      "    training[========================>] acc:98.78, loss:0.0390\n",
      "    evaluate[========================>] acc:97.72, loss:0.0941\n",
      "\n",
      "<40> --------------------------------------------------------------------------------\n",
      "    training[========================>] acc:98.76, loss:0.0389\n",
      "    evaluate[========================>] acc:97.64, loss:0.0940\n",
      "\n",
      "<41> --------------------------------------------------------------------------------\n",
      "    training[========================>] acc:98.82, loss:0.03923\n",
      "    evaluate[========================>] acc:97.67, loss:0.0902\n",
      "\n",
      "<42> --------------------------------------------------------------------------------\n",
      "    training[========================>] acc:98.84, loss:0.0379\n",
      "    evaluate[========================>] acc:97.73, loss:0.0898\n",
      "\n",
      "<43> --------------------------------------------------------------------------------\n",
      "    training[========================>] acc:98.92, loss:0.0359\n",
      "    evaluate[========================>] acc:97.74, loss:0.0936\n",
      "\n",
      "<44> --------------------------------------------------------------------------------\n",
      "    training[========================>] acc:98.89, loss:0.0355\n",
      "    evaluate[========================>] acc:97.67, loss:0.0972\n",
      "\n",
      "<45> --------------------------------------------------------------------------------\n",
      "    training[========================>] acc:98.92, loss:0.0349\n",
      "    evaluate[========================>] acc:97.65, loss:0.0937\n",
      "\n",
      "<46> --------------------------------------------------------------------------------\n",
      "    training[========================>] acc:98.94, loss:0.0349\n",
      "    evaluate[========================>] acc:97.86, loss:0.0919\n",
      "\n",
      "<47> --------------------------------------------------------------------------------\n",
      "    training[========================>] acc:99.01, loss:0.0331\n",
      "    evaluate[========================>] acc:97.83, loss:0.0887\n",
      "\n",
      "<48> --------------------------------------------------------------------------------\n",
      "    training[========================>] acc:98.97, loss:0.0334\n",
      "    evaluate[========================>] acc:97.86, loss:0.0985\n",
      "\n",
      "<49> --------------------------------------------------------------------------------\n",
      "    training[========================>] acc:99.03, loss:0.0315\n",
      "    evaluate[========================>] acc:97.86, loss:0.0934\n",
      "\n",
      "<50> --------------------------------------------------------------------------------\n",
      "    training[========================>] acc:98.98, loss:0.03218\n",
      "    evaluate[========================>] acc:97.83, loss:0.0982\n"
     ]
    }
   ],
   "source": [
    "### training\n",
    "history = model.fit(train_x, train_y, test_x, test_y, epoch=50, batch_size=256, clean_opt=50)"
   ]
  },
  {
   "cell_type": "code",
   "execution_count": 11,
   "metadata": {},
   "outputs": [],
   "source": [
    "model.save('./mnist_h128_10.model')"
   ]
  },
  {
   "cell_type": "code",
   "execution_count": 12,
   "metadata": {},
   "outputs": [
    {
     "data": {
      "image/png": "[encoded data removed]",
      "text/plain": [
       "<Figure size 432x288 with 1 Axes>"
      ]
     },
     "metadata": {
      "needs_background": "light"
     },
     "output_type": "display_data"
    }
   ],
   "source": [
    "### 損失函數\n",
    "plt_result({\n",
    "    'loss' : history['los'],\n",
    "    'val_loss': history['val_los'],\n",
    "})"
   ]
  },
  {
   "cell_type": "code",
   "execution_count": 13,
   "metadata": {},
   "outputs": [
    {
     "data": {
      "image/png": "[encoded data removed]",
      "text/plain": [
       "<Figure size 432x288 with 1 Axes>"
      ]
     },
     "metadata": {
      "needs_background": "light"
     },
     "output_type": "display_data"
    }
   ],
   "source": [
    "# 準確度\n",
    "plt_result({\n",
    "    'accuracy': history['acc'],\n",
    "    'val_accuracy' : history['val_acc'],\n",
    "})"
   ]
  },
  {
   "cell_type": "code",
   "execution_count": 14,
   "metadata": {},
   "outputs": [
    {
     "name": "stdout",
     "output_type": "stream",
     "text": [
      "    evaluate[========================>] acc:97.83, loss:0.0982\n"
     ]
    },
    {
     "data": {
      "text/plain": [
       "(0.9783418174962293, 0.09818510313753445)"
      ]
     },
     "execution_count": 14,
     "metadata": {},
     "output_type": "execute_result"
    }
   ],
   "source": [
    "### 模組評估\n",
    "model.evaluate(test_x, test_y)"
   ]
  },
  {
   "cell_type": "code",
   "execution_count": null,
   "metadata": {},
   "outputs": [],
   "source": []
  },
  {
   "cell_type": "code",
   "execution_count": null,
   "metadata": {},
   "outputs": [],
   "source": []
  },
  {
   "cell_type": "code",
   "execution_count": null,
   "metadata": {},
   "outputs": [],
   "source": []
  },
  {
   "cell_type": "code",
   "execution_count": null,
   "metadata": {},
   "outputs": [],
   "source": []
  }
 ],
 "metadata": {
  "kernelspec": {
   "display_name": "Python 3",
   "language": "python",
   "name": "python3"
  },
  "language_info": {
   "codemirror_mode": {
    "name": "ipython",
    "version": 3
   },
   "file_extension": ".py",
   "mimetype": "text/x-python",
   "name": "python",
   "nbconvert_exporter": "python",
   "pygments_lexer": "ipython3",
   "version": "3.7.5"
  }
 },
 "nbformat": 4,
 "nbformat_minor": 4
}
