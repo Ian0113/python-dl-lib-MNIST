{
 "cells": [
  {
   "cell_type": "code",
   "execution_count": 1,
   "metadata": {},
   "outputs": [],
   "source": [
    "import matplotlib.pyplot as plt\n",
    "import numpy as np"
   ]
  },
  {
   "cell_type": "code",
   "execution_count": 2,
   "metadata": {},
   "outputs": [],
   "source": [
    "from dl_lib import Model, OneHot\n",
    "from Mnist import mnist_imgread, mnist_labread"
   ]
  },
  {
   "cell_type": "code",
   "execution_count": 3,
   "metadata": {},
   "outputs": [
    {
     "name": "stdout",
     "output_type": "stream",
     "text": [
      "test data\n",
      "img shape:(10000, 28, 28, 1), lab shape:(10000, 1)\n"
     ]
    }
   ],
   "source": [
    "### read dataset\n",
    "test_imgs = mnist_imgread('./dataset/t10k-images-idx3-ubyte.gz')\n",
    "test_labs = mnist_labread('./dataset/t10k-labels-idx1-ubyte.gz')\n",
    "print('test data\\nimg shape:{}, lab shape:{}'.format(test_imgs.shape, test_labs.shape))"
   ]
  },
  {
   "cell_type": "code",
   "execution_count": 4,
   "metadata": {},
   "outputs": [
    {
     "name": "stdout",
     "output_type": "stream",
     "text": [
      "test_x (10000, 28, 28, 1)\n",
      "test_y (10000, 10, 1)\n"
     ]
    }
   ],
   "source": [
    "### model x\n",
    "test_x = test_imgs\n",
    "print('test_x', test_x.shape)\n",
    "### model y (labels one hot encoding)\n",
    "onehot = OneHot(np.arange(0,10))\n",
    "test_y = onehot.encoding(test_labs)\n",
    "print('test_y', test_y.shape)"
   ]
  },
  {
   "cell_type": "code",
   "execution_count": 5,
   "metadata": {},
   "outputs": [],
   "source": [
    "### 讀取模型\n",
    "model = Model.load('./mnist_h128_10.model')"
   ]
  },
  {
   "cell_type": "code",
   "execution_count": 6,
   "metadata": {},
   "outputs": [
    {
     "name": "stdout",
     "output_type": "stream",
     "text": [
      "    evaluate[>                        ] acc:98.83, loss:0.0730\r",
      "    evaluate[>                        ] acc:98.24, loss:0.0799\r",
      "    evaluate[=>                       ] acc:97.79, loss:0.0971\r",
      "    evaluate[=>                       ] acc:97.36, loss:0.1084\r",
      "    evaluate[==>                      ] acc:97.11, loss:0.1357\r",
      "    evaluate[===>                     ] acc:97.07, loss:0.1337\r",
      "    evaluate[===>                     ] acc:97.04, loss:0.1462\r",
      "    evaluate[====>                    ] acc:96.92, loss:0.1414\r",
      "    evaluate[=====>                   ] acc:96.79, loss:0.1465\r",
      "    evaluate[=====>                   ] acc:96.76, loss:0.1404\r",
      "    evaluate[======>                  ] acc:96.88, loss:0.1342\r",
      "    evaluate[=======>                 ] acc:96.84, loss:0.1374\r",
      "    evaluate[=======>                 ] acc:97.00, loss:0.1325\r",
      "    evaluate[========>                ] acc:97.07, loss:0.1362\r",
      "    evaluate[========>                ] acc:96.95, loss:0.1398\r",
      "    evaluate[=========>               ] acc:96.88, loss:0.1444\r",
      "    evaluate[==========>              ] acc:96.85, loss:0.1430\r",
      "    evaluate[==========>              ] acc:96.79, loss:0.1430\r",
      "    evaluate[===========>             ] acc:96.79, loss:0.1420\r",
      "    evaluate[============>            ] acc:96.86, loss:0.1394\r",
      "    evaluate[============>            ] acc:96.97, loss:0.1348\r",
      "    evaluate[=============>           ] acc:97.11, loss:0.1288\r",
      "    evaluate[==============>          ] acc:97.15, loss:0.1284\r",
      "    evaluate[==============>          ] acc:97.17, loss:0.1268\r",
      "    evaluate[===============>         ] acc:97.25, loss:0.1234\r",
      "    evaluate[================>        ] acc:97.21, loss:0.1276\r",
      "    evaluate[================>        ] acc:97.28, loss:0.1244\r",
      "    evaluate[=================>       ] acc:97.38, loss:0.1200\r",
      "    evaluate[=================>       ] acc:97.45, loss:0.1160\r",
      "    evaluate[==================>      ] acc:97.54, loss:0.1124\r",
      "    evaluate[===================>     ] acc:97.62, loss:0.1090\r",
      "    evaluate[===================>     ] acc:97.66, loss:0.1061\r",
      "    evaluate[====================>    ] acc:97.72, loss:0.1033\r",
      "    evaluate[=====================>   ] acc:97.77, loss:0.1005\r",
      "    evaluate[=====================>   ] acc:97.83, loss:0.0976\r",
      "    evaluate[======================>  ] acc:97.85, loss:0.0990\r",
      "    evaluate[=======================> ] acc:97.91, loss:0.0964\r",
      "    evaluate[=======================> ] acc:97.90, loss:0.0969\r",
      "    evaluate[========================>] acc:97.83, loss:0.0982\r\n",
      "model: (0.9783418174962293, 0.09818510313753445)\n"
     ]
    }
   ],
   "source": [
    "### 模組評估\n",
    "print('model:', model.evaluate(test_x, test_y))"
   ]
  },
  {
   "cell_type": "code",
   "execution_count": 7,
   "metadata": {},
   "outputs": [
    {
     "name": "stdout",
     "output_type": "stream",
     "text": [
      "實際: [7 2 1 0 4 1 4 9 5 9]\n",
      "預測: [7 2 1 0 4 1 4 9 5 9]\n"
     ]
    }
   ],
   "source": [
    "### 實際\n",
    "original = onehot.decoding(test_y[:10])\n",
    "### 預測\n",
    "prediction = model.predict(test_x[:10])\n",
    "prediction = onehot.decoding(prediction)\n",
    "\n",
    "print('實際:', original)\n",
    "print('預測:', prediction)"
   ]
  },
  {
   "cell_type": "code",
   "execution_count": 8,
   "metadata": {},
   "outputs": [
    {
     "name": "stdout",
     "output_type": "stream",
     "text": [
      "    get_diff[========================>] 217\n",
      "預測失誤總數: 217\n"
     ]
    }
   ],
   "source": [
    "### 實際與預測不同\n",
    "diff_index = model.get_diff(test_x, test_y)\n",
    "print('預測失誤總數:', len(diff_index))"
   ]
  },
  {
   "cell_type": "code",
   "execution_count": 9,
   "metadata": {},
   "outputs": [
    {
     "data": {
      "text/plain": [
       "[18,\n",
       " 149,\n",
       " 247,\n",
       " 259,\n",
       " 321,\n",
       " 340,\n",
       " 425,\n",
       " 445,\n",
       " 448,\n",
       " 578,\n",
       " 582,\n",
       " 583,\n",
       " 619,\n",
       " 659,\n",
       " 691,\n",
       " 717,\n",
       " 720,\n",
       " 844,\n",
       " 846,\n",
       " 877,\n",
       " 882,\n",
       " 924,\n",
       " 947,\n",
       " 951,\n",
       " 956,\n",
       " 965,\n",
       " 1014,\n",
       " 1039,\n",
       " 1101,\n",
       " 1112,\n",
       " 1124,\n",
       " 1192,\n",
       " 1226,\n",
       " 1232,\n",
       " 1242,\n",
       " 1247,\n",
       " 1260,\n",
       " 1299,\n",
       " 1319,\n",
       " 1325,\n",
       " 1328,\n",
       " 1414,\n",
       " 1500,\n",
       " 1522,\n",
       " 1530,\n",
       " 1549,\n",
       " 1609,\n",
       " 1681,\n",
       " 1709,\n",
       " 1717,\n",
       " 1737,\n",
       " 1754,\n",
       " 1790,\n",
       " 1800,\n",
       " 1878,\n",
       " 1901,\n",
       " 1941,\n",
       " 2004,\n",
       " 2016,\n",
       " 2018,\n",
       " 2035,\n",
       " 2043,\n",
       " 2044,\n",
       " 2053,\n",
       " 2093,\n",
       " 2109,\n",
       " 2118,\n",
       " 2129,\n",
       " 2130,\n",
       " 2135,\n",
       " 2182,\n",
       " 2280,\n",
       " 2293,\n",
       " 2299,\n",
       " 2325,\n",
       " 2329,\n",
       " 2369,\n",
       " 2387,\n",
       " 2406,\n",
       " 2422,\n",
       " 2462,\n",
       " 2488,\n",
       " 2534,\n",
       " 2597,\n",
       " 2607,\n",
       " 2654,\n",
       " 2720,\n",
       " 2760,\n",
       " 2836,\n",
       " 2863,\n",
       " 2896,\n",
       " 2921,\n",
       " 2927,\n",
       " 2939,\n",
       " 2953,\n",
       " 3030,\n",
       " 3060,\n",
       " 3073,\n",
       " 3117,\n",
       " 3269,\n",
       " 3503,\n",
       " 3520,\n",
       " 3549,\n",
       " 3558,\n",
       " 3567,\n",
       " 3597,\n",
       " 3681,\n",
       " 3749,\n",
       " 3751,\n",
       " 3757,\n",
       " 3767,\n",
       " 3780,\n",
       " 3796,\n",
       " 3808,\n",
       " 3817,\n",
       " 3818,\n",
       " 3838,\n",
       " 3853,\n",
       " 3893,\n",
       " 3902,\n",
       " 3906,\n",
       " 3926,\n",
       " 3941,\n",
       " 3943,\n",
       " 3985,\n",
       " 4065,\n",
       " 4075,\n",
       " 4078,\n",
       " 4140,\n",
       " 4163,\n",
       " 4176,\n",
       " 4199,\n",
       " 4201,\n",
       " 4224,\n",
       " 4248,\n",
       " 4289,\n",
       " 4306,\n",
       " 4359,\n",
       " 4360,\n",
       " 4369,\n",
       " 4400,\n",
       " 4425,\n",
       " 4443,\n",
       " 4497,\n",
       " 4500,\n",
       " 4504,\n",
       " 4547,\n",
       " 4601,\n",
       " 4635,\n",
       " 4731,\n",
       " 4740,\n",
       " 4761,\n",
       " 4807,\n",
       " 4823,\n",
       " 4833,\n",
       " 4860,\n",
       " 4880,\n",
       " 4886,\n",
       " 4943,\n",
       " 4956,\n",
       " 4966,\n",
       " 5140,\n",
       " 5331,\n",
       " 5642,\n",
       " 5734,\n",
       " 5749,\n",
       " 5842,\n",
       " 5887,\n",
       " 5888,\n",
       " 5936,\n",
       " 5937,\n",
       " 5955,\n",
       " 5973,\n",
       " 6059,\n",
       " 6166,\n",
       " 6168,\n",
       " 6555,\n",
       " 6568,\n",
       " 6571,\n",
       " 6574,\n",
       " 6597,\n",
       " 6598,\n",
       " 6599,\n",
       " 6608,\n",
       " 6625,\n",
       " 6651,\n",
       " 6744,\n",
       " 6755,\n",
       " 7216,\n",
       " 8020,\n",
       " 8062,\n",
       " 8094,\n",
       " 8279,\n",
       " 8522,\n",
       " 9009,\n",
       " 9015,\n",
       " 9019,\n",
       " 9024,\n",
       " 9587,\n",
       " 9634,\n",
       " 9679,\n",
       " 9692,\n",
       " 9700,\n",
       " 9716,\n",
       " 9729,\n",
       " 9745,\n",
       " 9768,\n",
       " 9770,\n",
       " 9779,\n",
       " 9782,\n",
       " 9792,\n",
       " 9808,\n",
       " 9811,\n",
       " 9839,\n",
       " 9892,\n",
       " 9905,\n",
       " 9982]"
      ]
     },
     "execution_count": 9,
     "metadata": {},
     "output_type": "execute_result"
    }
   ],
   "source": [
    "diff_index"
   ]
  },
  {
   "cell_type": "code",
   "execution_count": null,
   "metadata": {},
   "outputs": [],
   "source": []
  }
 ],
 "metadata": {
  "kernelspec": {
   "display_name": "Python 3",
   "language": "python",
   "name": "python3"
  },
  "language_info": {
   "codemirror_mode": {
    "name": "ipython",
    "version": 3
   },
   "file_extension": ".py",
   "mimetype": "text/x-python",
   "name": "python",
   "nbconvert_exporter": "python",
   "pygments_lexer": "ipython3",
   "version": "3.7.5"
  }
 },
 "nbformat": 4,
 "nbformat_minor": 4
}
